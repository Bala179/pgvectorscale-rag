{
 "cells": [
  {
   "cell_type": "markdown",
   "metadata": {},
   "source": [
    "# Table Setup: Run only if the table has not been set up already"
   ]
  },
  {
   "cell_type": "code",
   "execution_count": 2,
   "id": "875062df-7ada-4ecf-8f72-ae89f2fe5da0",
   "metadata": {},
   "outputs": [],
   "source": [
    "from datetime import datetime\n",
    "import logging\n",
    "\n",
    "from openai import RateLimitError\n",
    "import pandas as pd\n",
    "from database.vector_store import VectorStore\n",
    "from timescale_vector.client import uuid_from_time\n",
    "\n",
    "# Initialize VectorStore\n",
    "vec = VectorStore()\n",
    "\n",
    "# Read the CSV file\n",
    "df = pd.read_csv(\"../data/faq_dataset.csv\", sep=\";\")\n",
    "\n",
    "\n",
    "# Prepare data for insertion\n",
    "def prepare_record(row):\n",
    "    \"\"\"Prepare a record for insertion into the vector store.\n",
    "\n",
    "    This function creates a record with a UUID version 1 as the ID, which captures\n",
    "    the current time or a specified time.\n",
    "\n",
    "    Note:\n",
    "        - By default, this function uses the current time for the UUID.\n",
    "        - To use a specific time:\n",
    "          1. Import the datetime module.\n",
    "          2. Create a datetime object for your desired time.\n",
    "          3. Use uuid_from_time(your_datetime) instead of uuid_from_time(datetime.now()).\n",
    "\n",
    "        Example:\n",
    "            from datetime import datetime\n",
    "            specific_time = datetime(2023, 1, 1, 12, 0, 0)\n",
    "            id = str(uuid_from_time(specific_time))\n",
    "\n",
    "        This is useful when your content already has an associated datetime.\n",
    "    \"\"\"\n",
    "    content = f\"Question: {row['question']}\\nAnswer: {row['answer']}\"\n",
    "    embedding = vec.get_embedding(content)\n",
    "    return pd.Series(\n",
    "        {\n",
    "            \"id\": str(uuid_from_time(datetime.now())),\n",
    "            \"metadata\": {\n",
    "                \"category\": row[\"category\"],\n",
    "                \"created_at\": datetime.now().isoformat(),\n",
    "            },\n",
    "            \"contents\": content,\n",
    "            \"embedding\": embedding,\n",
    "        }\n",
    "    )\n",
    "\n",
    "logger = logging.getLogger('pgvectorscale')\n",
    "try:\n",
    "    records_df = df.apply(prepare_record, axis=1)\n",
    "except RateLimitError:\n",
    "    logger.exception(\"OpenAI Rate Limit Exceeded\")"
   ]
  },
  {
   "cell_type": "code",
   "execution_count": 3,
   "metadata": {},
   "outputs": [
    {
     "data": {
      "text/html": [
       "<div>\n",
       "<style scoped>\n",
       "    .dataframe tbody tr th:only-of-type {\n",
       "        vertical-align: middle;\n",
       "    }\n",
       "\n",
       "    .dataframe tbody tr th {\n",
       "        vertical-align: top;\n",
       "    }\n",
       "\n",
       "    .dataframe thead th {\n",
       "        text-align: right;\n",
       "    }\n",
       "</style>\n",
       "<table border=\"1\" class=\"dataframe\">\n",
       "  <thead>\n",
       "    <tr style=\"text-align: right;\">\n",
       "      <th></th>\n",
       "      <th>id</th>\n",
       "      <th>metadata</th>\n",
       "      <th>contents</th>\n",
       "      <th>embedding</th>\n",
       "    </tr>\n",
       "  </thead>\n",
       "  <tbody>\n",
       "    <tr>\n",
       "      <th>0</th>\n",
       "      <td>298cabf4-51fc-11f0-9ed1-49363e65f4bb</td>\n",
       "      <td>{'category': 'Shipping', 'created_at': '2025-0...</td>\n",
       "      <td>Question: What are your shipping options?\\nAns...</td>\n",
       "      <td>[-0.009472182020545006, 0.01369680929929018, 0...</td>\n",
       "    </tr>\n",
       "    <tr>\n",
       "      <th>1</th>\n",
       "      <td>29e3c70e-51fc-11f0-8b17-9c05e25073fd</td>\n",
       "      <td>{'category': 'Order Management', 'created_at':...</td>\n",
       "      <td>Question: How can I track my order?\\nAnswer: Y...</td>\n",
       "      <td>[0.037382688373327255, 0.005943585652858019, 0...</td>\n",
       "    </tr>\n",
       "    <tr>\n",
       "      <th>2</th>\n",
       "      <td>2a27f014-51fc-11f0-8245-0040cc43bbcc</td>\n",
       "      <td>{'category': 'Returns', 'created_at': '2025-06...</td>\n",
       "      <td>Question: What is your return policy?\\nAnswer:...</td>\n",
       "      <td>[0.0170719213783741, 0.05264050513505936, 0.02...</td>\n",
       "    </tr>\n",
       "    <tr>\n",
       "      <th>3</th>\n",
       "      <td>2a9687ae-51fc-11f0-98df-e79783b3ff28</td>\n",
       "      <td>{'category': 'Shipping', 'created_at': '2025-0...</td>\n",
       "      <td>Question: Do you offer international shipping?...</td>\n",
       "      <td>[0.015880830585956573, 0.020843589678406715, 0...</td>\n",
       "    </tr>\n",
       "    <tr>\n",
       "      <th>4</th>\n",
       "      <td>2ac2f2d0-51fc-11f0-b206-43ff96f7fd6f</td>\n",
       "      <td>{'category': 'Order Management', 'created_at':...</td>\n",
       "      <td>Question: How do I cancel an order?\\nAnswer: Y...</td>\n",
       "      <td>[0.019665976986289024, 0.03133445605635643, -0...</td>\n",
       "    </tr>\n",
       "    <tr>\n",
       "      <th>5</th>\n",
       "      <td>2bdd6308-51fc-11f0-a51c-d14dd6f8364d</td>\n",
       "      <td>{'category': 'Payment', 'created_at': '2025-06...</td>\n",
       "      <td>Question: What payment methods do you accept?\\...</td>\n",
       "      <td>[0.027361895889043808, -0.02153364010155201, 0...</td>\n",
       "    </tr>\n",
       "    <tr>\n",
       "      <th>6</th>\n",
       "      <td>2c076446-51fc-11f0-8d6a-2cee70e47299</td>\n",
       "      <td>{'category': 'Product Information', 'created_a...</td>\n",
       "      <td>Question: Are your products authentic?\\nAnswer...</td>\n",
       "      <td>[0.006587592884898186, 0.00847778283059597, -0...</td>\n",
       "    </tr>\n",
       "    <tr>\n",
       "      <th>7</th>\n",
       "      <td>2c21d29a-51fc-11f0-b9fd-43ac45700f0e</td>\n",
       "      <td>{'category': 'Customer Support', 'created_at':...</td>\n",
       "      <td>Question: How do I contact customer service?\\n...</td>\n",
       "      <td>[0.06086518615484238, -0.005692227743566036, 0...</td>\n",
       "    </tr>\n",
       "    <tr>\n",
       "      <th>8</th>\n",
       "      <td>2c556240-51fc-11f0-9078-135cb00a9608</td>\n",
       "      <td>{'category': 'Services', 'created_at': '2025-0...</td>\n",
       "      <td>Question: Do you offer gift wrapping?\\nAnswer:...</td>\n",
       "      <td>[0.007302050944417715, 0.012296430766582489, -...</td>\n",
       "    </tr>\n",
       "    <tr>\n",
       "      <th>9</th>\n",
       "      <td>2c6c31fa-51fc-11f0-b3b4-19ad4bdbf0dc</td>\n",
       "      <td>{'category': 'Pricing', 'created_at': '2025-06...</td>\n",
       "      <td>Question: What is your price match policy?\\nAn...</td>\n",
       "      <td>[-0.037919409573078156, -0.007301652804017067,...</td>\n",
       "    </tr>\n",
       "    <tr>\n",
       "      <th>10</th>\n",
       "      <td>2ca6c11c-51fc-11f0-81c2-a5d505b3f3b2</td>\n",
       "      <td>{'category': 'Account Management', 'created_at...</td>\n",
       "      <td>Question: How do I create an account?\\nAnswer:...</td>\n",
       "      <td>[0.05028335005044937, 0.006747414357960224, 0....</td>\n",
       "    </tr>\n",
       "    <tr>\n",
       "      <th>11</th>\n",
       "      <td>2cc3d1d0-51fc-11f0-8005-42d3917fbef0</td>\n",
       "      <td>{'category': 'Rewards', 'created_at': '2025-06...</td>\n",
       "      <td>Question: Do you have a loyalty program?\\nAnsw...</td>\n",
       "      <td>[-0.02320508286356926, 0.020909130573272705, 0...</td>\n",
       "    </tr>\n",
       "    <tr>\n",
       "      <th>12</th>\n",
       "      <td>2ce7f272-51fc-11f0-a3ab-05bb7fa450ef</td>\n",
       "      <td>{'category': 'Returns', 'created_at': '2025-06...</td>\n",
       "      <td>Question: What should I do if I receive a dama...</td>\n",
       "      <td>[0.039423227310180664, 0.0608663447201252, 0.0...</td>\n",
       "    </tr>\n",
       "    <tr>\n",
       "      <th>13</th>\n",
       "      <td>2d3abf70-51fc-11f0-bd02-4553ce930ef0</td>\n",
       "      <td>{'category': 'Returns', 'created_at': '2025-06...</td>\n",
       "      <td>Question: How can I check the status of my ref...</td>\n",
       "      <td>[0.026472099125385284, -0.014170479029417038, ...</td>\n",
       "    </tr>\n",
       "    <tr>\n",
       "      <th>14</th>\n",
       "      <td>2d553c60-51fc-11f0-8230-373ccb361cd7</td>\n",
       "      <td>{'category': 'Pricing', 'created_at': '2025-06...</td>\n",
       "      <td>Question: Do you offer discounts for bulk orde...</td>\n",
       "      <td>[0.022351885214447975, -0.005514686461538076, ...</td>\n",
       "    </tr>\n",
       "    <tr>\n",
       "      <th>15</th>\n",
       "      <td>2da84bda-51fc-11f0-b775-4bef964e4e9b</td>\n",
       "      <td>{'category': 'Communication', 'created_at': '2...</td>\n",
       "      <td>Question: How do I unsubscribe from your email...</td>\n",
       "      <td>[0.01285840105265379, 0.01253749430179596, 0.0...</td>\n",
       "    </tr>\n",
       "    <tr>\n",
       "      <th>16</th>\n",
       "      <td>2e1daf88-51fc-11f0-8442-411ab0295289</td>\n",
       "      <td>{'category': 'Product Information', 'created_a...</td>\n",
       "      <td>Question: What is your warranty policy?\\nAnswe...</td>\n",
       "      <td>[0.014443718828260899, 0.014022687450051308, 0...</td>\n",
       "    </tr>\n",
       "    <tr>\n",
       "      <th>17</th>\n",
       "      <td>2e431b4c-51fc-11f0-9138-33d73a7f2db3</td>\n",
       "      <td>{'category': 'Company Information', 'created_a...</td>\n",
       "      <td>Question: Do you have physical store locations...</td>\n",
       "      <td>[0.007069041021168232, 0.029162710532546043, 0...</td>\n",
       "    </tr>\n",
       "    <tr>\n",
       "      <th>18</th>\n",
       "      <td>2e82be50-51fc-11f0-828b-904e1b288343</td>\n",
       "      <td>{'category': 'Payment', 'created_at': '2025-06...</td>\n",
       "      <td>Question: How do I apply a promotional code to...</td>\n",
       "      <td>[0.05306832492351532, 0.006916433107107878, 0....</td>\n",
       "    </tr>\n",
       "    <tr>\n",
       "      <th>19</th>\n",
       "      <td>2eadbd58-51fc-11f0-8efa-3ee584ddf99c</td>\n",
       "      <td>{'category': 'Privacy', 'created_at': '2025-06...</td>\n",
       "      <td>Question: What is your privacy policy regardin...</td>\n",
       "      <td>[0.03765680268406868, 0.007964955642819405, 0....</td>\n",
       "    </tr>\n",
       "  </tbody>\n",
       "</table>\n",
       "</div>"
      ],
      "text/plain": [
       "                                      id  \\\n",
       "0   298cabf4-51fc-11f0-9ed1-49363e65f4bb   \n",
       "1   29e3c70e-51fc-11f0-8b17-9c05e25073fd   \n",
       "2   2a27f014-51fc-11f0-8245-0040cc43bbcc   \n",
       "3   2a9687ae-51fc-11f0-98df-e79783b3ff28   \n",
       "4   2ac2f2d0-51fc-11f0-b206-43ff96f7fd6f   \n",
       "5   2bdd6308-51fc-11f0-a51c-d14dd6f8364d   \n",
       "6   2c076446-51fc-11f0-8d6a-2cee70e47299   \n",
       "7   2c21d29a-51fc-11f0-b9fd-43ac45700f0e   \n",
       "8   2c556240-51fc-11f0-9078-135cb00a9608   \n",
       "9   2c6c31fa-51fc-11f0-b3b4-19ad4bdbf0dc   \n",
       "10  2ca6c11c-51fc-11f0-81c2-a5d505b3f3b2   \n",
       "11  2cc3d1d0-51fc-11f0-8005-42d3917fbef0   \n",
       "12  2ce7f272-51fc-11f0-a3ab-05bb7fa450ef   \n",
       "13  2d3abf70-51fc-11f0-bd02-4553ce930ef0   \n",
       "14  2d553c60-51fc-11f0-8230-373ccb361cd7   \n",
       "15  2da84bda-51fc-11f0-b775-4bef964e4e9b   \n",
       "16  2e1daf88-51fc-11f0-8442-411ab0295289   \n",
       "17  2e431b4c-51fc-11f0-9138-33d73a7f2db3   \n",
       "18  2e82be50-51fc-11f0-828b-904e1b288343   \n",
       "19  2eadbd58-51fc-11f0-8efa-3ee584ddf99c   \n",
       "\n",
       "                                             metadata  \\\n",
       "0   {'category': 'Shipping', 'created_at': '2025-0...   \n",
       "1   {'category': 'Order Management', 'created_at':...   \n",
       "2   {'category': 'Returns', 'created_at': '2025-06...   \n",
       "3   {'category': 'Shipping', 'created_at': '2025-0...   \n",
       "4   {'category': 'Order Management', 'created_at':...   \n",
       "5   {'category': 'Payment', 'created_at': '2025-06...   \n",
       "6   {'category': 'Product Information', 'created_a...   \n",
       "7   {'category': 'Customer Support', 'created_at':...   \n",
       "8   {'category': 'Services', 'created_at': '2025-0...   \n",
       "9   {'category': 'Pricing', 'created_at': '2025-06...   \n",
       "10  {'category': 'Account Management', 'created_at...   \n",
       "11  {'category': 'Rewards', 'created_at': '2025-06...   \n",
       "12  {'category': 'Returns', 'created_at': '2025-06...   \n",
       "13  {'category': 'Returns', 'created_at': '2025-06...   \n",
       "14  {'category': 'Pricing', 'created_at': '2025-06...   \n",
       "15  {'category': 'Communication', 'created_at': '2...   \n",
       "16  {'category': 'Product Information', 'created_a...   \n",
       "17  {'category': 'Company Information', 'created_a...   \n",
       "18  {'category': 'Payment', 'created_at': '2025-06...   \n",
       "19  {'category': 'Privacy', 'created_at': '2025-06...   \n",
       "\n",
       "                                             contents  \\\n",
       "0   Question: What are your shipping options?\\nAns...   \n",
       "1   Question: How can I track my order?\\nAnswer: Y...   \n",
       "2   Question: What is your return policy?\\nAnswer:...   \n",
       "3   Question: Do you offer international shipping?...   \n",
       "4   Question: How do I cancel an order?\\nAnswer: Y...   \n",
       "5   Question: What payment methods do you accept?\\...   \n",
       "6   Question: Are your products authentic?\\nAnswer...   \n",
       "7   Question: How do I contact customer service?\\n...   \n",
       "8   Question: Do you offer gift wrapping?\\nAnswer:...   \n",
       "9   Question: What is your price match policy?\\nAn...   \n",
       "10  Question: How do I create an account?\\nAnswer:...   \n",
       "11  Question: Do you have a loyalty program?\\nAnsw...   \n",
       "12  Question: What should I do if I receive a dama...   \n",
       "13  Question: How can I check the status of my ref...   \n",
       "14  Question: Do you offer discounts for bulk orde...   \n",
       "15  Question: How do I unsubscribe from your email...   \n",
       "16  Question: What is your warranty policy?\\nAnswe...   \n",
       "17  Question: Do you have physical store locations...   \n",
       "18  Question: How do I apply a promotional code to...   \n",
       "19  Question: What is your privacy policy regardin...   \n",
       "\n",
       "                                            embedding  \n",
       "0   [-0.009472182020545006, 0.01369680929929018, 0...  \n",
       "1   [0.037382688373327255, 0.005943585652858019, 0...  \n",
       "2   [0.0170719213783741, 0.05264050513505936, 0.02...  \n",
       "3   [0.015880830585956573, 0.020843589678406715, 0...  \n",
       "4   [0.019665976986289024, 0.03133445605635643, -0...  \n",
       "5   [0.027361895889043808, -0.02153364010155201, 0...  \n",
       "6   [0.006587592884898186, 0.00847778283059597, -0...  \n",
       "7   [0.06086518615484238, -0.005692227743566036, 0...  \n",
       "8   [0.007302050944417715, 0.012296430766582489, -...  \n",
       "9   [-0.037919409573078156, -0.007301652804017067,...  \n",
       "10  [0.05028335005044937, 0.006747414357960224, 0....  \n",
       "11  [-0.02320508286356926, 0.020909130573272705, 0...  \n",
       "12  [0.039423227310180664, 0.0608663447201252, 0.0...  \n",
       "13  [0.026472099125385284, -0.014170479029417038, ...  \n",
       "14  [0.022351885214447975, -0.005514686461538076, ...  \n",
       "15  [0.01285840105265379, 0.01253749430179596, 0.0...  \n",
       "16  [0.014443718828260899, 0.014022687450051308, 0...  \n",
       "17  [0.007069041021168232, 0.029162710532546043, 0...  \n",
       "18  [0.05306832492351532, 0.006916433107107878, 0....  \n",
       "19  [0.03765680268406868, 0.007964955642819405, 0....  "
      ]
     },
     "execution_count": 3,
     "metadata": {},
     "output_type": "execute_result"
    }
   ],
   "source": [
    "records_df"
   ]
  },
  {
   "cell_type": "code",
   "execution_count": 4,
   "metadata": {},
   "outputs": [],
   "source": [
    "vec.create_tables()"
   ]
  },
  {
   "cell_type": "code",
   "execution_count": null,
   "metadata": {},
   "outputs": [
    {
     "ename": "DuplicateTable",
     "evalue": "relation \"embeddings_embedding_idx\" already exists\n",
     "output_type": "error",
     "traceback": [
      "\u001b[31m---------------------------------------------------------------------------\u001b[39m",
      "\u001b[31mDuplicateTable\u001b[39m                            Traceback (most recent call last)",
      "\u001b[36mCell\u001b[39m\u001b[36m \u001b[39m\u001b[32mIn[5]\u001b[39m\u001b[32m, line 1\u001b[39m\n\u001b[32m----> \u001b[39m\u001b[32m1\u001b[39m \u001b[43mvec\u001b[49m\u001b[43m.\u001b[49m\u001b[43mcreate_index\u001b[49m\u001b[43m(\u001b[49m\u001b[43m)\u001b[49m  \u001b[38;5;66;03m# DiskAnnIndex\u001b[39;00m\n",
      "\u001b[36mFile \u001b[39m\u001b[32mc:\\Users\\Admin\\Documents\\Projects\\pgvectorscale-rag\\app\\database\\vector_store.py:59\u001b[39m, in \u001b[36mVectorStore.create_index\u001b[39m\u001b[34m(self)\u001b[39m\n\u001b[32m     57\u001b[39m \u001b[38;5;28;01mdef\u001b[39;00m\u001b[38;5;250m \u001b[39m\u001b[34mcreate_index\u001b[39m(\u001b[38;5;28mself\u001b[39m) -> \u001b[38;5;28;01mNone\u001b[39;00m:\n\u001b[32m     58\u001b[39m \u001b[38;5;250m    \u001b[39m\u001b[33;03m\"\"\"Create the StreamingDiskANN index to spseed up similarity search\"\"\"\u001b[39;00m\n\u001b[32m---> \u001b[39m\u001b[32m59\u001b[39m     \u001b[38;5;28;43mself\u001b[39;49m\u001b[43m.\u001b[49m\u001b[43mvec_client\u001b[49m\u001b[43m.\u001b[49m\u001b[43mcreate_embedding_index\u001b[49m\u001b[43m(\u001b[49m\u001b[43mclient\u001b[49m\u001b[43m.\u001b[49m\u001b[43mDiskAnnIndex\u001b[49m\u001b[43m(\u001b[49m\u001b[43m)\u001b[49m\u001b[43m)\u001b[49m\n",
      "\u001b[36mFile \u001b[39m\u001b[32mc:\\Users\\Admin\\Documents\\Projects\\pgvectorscale-rag\\venv\\Lib\\site-packages\\timescale_vector\\client.py:1364\u001b[39m, in \u001b[36mSync.create_embedding_index\u001b[39m\u001b[34m(self, index)\u001b[39m\n\u001b[32m   1362\u001b[39m \u001b[38;5;28;01mwith\u001b[39;00m \u001b[38;5;28mself\u001b[39m.connect() \u001b[38;5;28;01mas\u001b[39;00m conn:\n\u001b[32m   1363\u001b[39m     \u001b[38;5;28;01mwith\u001b[39;00m conn.cursor() \u001b[38;5;28;01mas\u001b[39;00m cur:\n\u001b[32m-> \u001b[39m\u001b[32m1364\u001b[39m         \u001b[43mcur\u001b[49m\u001b[43m.\u001b[49m\u001b[43mexecute\u001b[49m\u001b[43m(\u001b[49m\u001b[43mquery\u001b[49m\u001b[43m)\u001b[49m\n",
      "\u001b[36mFile \u001b[39m\u001b[32mc:\\Users\\Admin\\Documents\\Projects\\pgvectorscale-rag\\venv\\Lib\\site-packages\\psycopg2\\extras.py:146\u001b[39m, in \u001b[36mDictCursor.execute\u001b[39m\u001b[34m(self, query, vars)\u001b[39m\n\u001b[32m    144\u001b[39m \u001b[38;5;28mself\u001b[39m.index = OrderedDict()\n\u001b[32m    145\u001b[39m \u001b[38;5;28mself\u001b[39m._query_executed = \u001b[38;5;28;01mTrue\u001b[39;00m\n\u001b[32m--> \u001b[39m\u001b[32m146\u001b[39m \u001b[38;5;28;01mreturn\u001b[39;00m \u001b[38;5;28;43msuper\u001b[39;49m\u001b[43m(\u001b[49m\u001b[43m)\u001b[49m\u001b[43m.\u001b[49m\u001b[43mexecute\u001b[49m\u001b[43m(\u001b[49m\u001b[43mquery\u001b[49m\u001b[43m,\u001b[49m\u001b[43m \u001b[49m\u001b[38;5;28;43mvars\u001b[39;49m\u001b[43m)\u001b[49m\n",
      "\u001b[31mDuplicateTable\u001b[39m: relation \"embeddings_embedding_idx\" already exists\n"
     ]
    }
   ],
   "source": [
    "vec.create_index()  # DiskAnnIndex"
   ]
  },
  {
   "cell_type": "code",
   "execution_count": null,
   "metadata": {},
   "outputs": [],
   "source": [
    "vec.upsert(records_df)"
   ]
  },
  {
   "cell_type": "markdown",
   "metadata": {},
   "source": [
    "# Similarity search: run from here if the table is already set up"
   ]
  },
  {
   "cell_type": "code",
   "execution_count": 6,
   "metadata": {},
   "outputs": [],
   "source": [
    "from datetime import datetime\n",
    "from database.vector_store import VectorStore\n",
    "from services.synthesizer import Synthesizer\n",
    "from timescale_vector import client\n",
    "\n",
    "# Initialize VectorStore\n",
    "vec = VectorStore()"
   ]
  },
  {
   "cell_type": "code",
   "execution_count": 7,
   "metadata": {},
   "outputs": [],
   "source": [
    "relevant_question = \"What are your shipping options?\""
   ]
  },
  {
   "cell_type": "code",
   "execution_count": 8,
   "metadata": {},
   "outputs": [],
   "source": [
    "results = vec.search(relevant_question, limit=3)"
   ]
  },
  {
   "cell_type": "code",
   "execution_count": 9,
   "metadata": {},
   "outputs": [
    {
     "data": {
      "text/html": [
       "<div>\n",
       "<style scoped>\n",
       "    .dataframe tbody tr th:only-of-type {\n",
       "        vertical-align: middle;\n",
       "    }\n",
       "\n",
       "    .dataframe tbody tr th {\n",
       "        vertical-align: top;\n",
       "    }\n",
       "\n",
       "    .dataframe thead th {\n",
       "        text-align: right;\n",
       "    }\n",
       "</style>\n",
       "<table border=\"1\" class=\"dataframe\">\n",
       "  <thead>\n",
       "    <tr style=\"text-align: right;\">\n",
       "      <th></th>\n",
       "      <th>id</th>\n",
       "      <th>content</th>\n",
       "      <th>embedding</th>\n",
       "      <th>distance</th>\n",
       "      <th>category</th>\n",
       "      <th>created_at</th>\n",
       "    </tr>\n",
       "  </thead>\n",
       "  <tbody>\n",
       "    <tr>\n",
       "      <th>0</th>\n",
       "      <td>814fe3ca-4dd7-11f0-b77b-e78e4fb36ab9</td>\n",
       "      <td>Question: What are your shipping options?\\nAns...</td>\n",
       "      <td>[-0.00944389, 0.013674567, 0.037937388, 0.0095...</td>\n",
       "      <td>0.318338</td>\n",
       "      <td>Shipping</td>\n",
       "      <td>2025-06-20T18:37:23.128929</td>\n",
       "    </tr>\n",
       "    <tr>\n",
       "      <th>1</th>\n",
       "      <td>841deb2e-4dd7-11f0-883e-57d287dba527</td>\n",
       "      <td>Question: Do you offer international shipping?...</td>\n",
       "      <td>[0.01588083, 0.02084359, 0.068945, 0.040534537...</td>\n",
       "      <td>0.468099</td>\n",
       "      <td>Shipping</td>\n",
       "      <td>2025-06-20T18:37:27.834603</td>\n",
       "    </tr>\n",
       "    <tr>\n",
       "      <th>2</th>\n",
       "      <td>86d022c4-4dd7-11f0-a63f-20f318bea63c</td>\n",
       "      <td>Question: Do you offer gift wrapping?\\nAnswer:...</td>\n",
       "      <td>[0.00729098, 0.012285413, -0.0017600359, -0.00...</td>\n",
       "      <td>0.540579</td>\n",
       "      <td>Services</td>\n",
       "      <td>2025-06-20T18:37:32.358010</td>\n",
       "    </tr>\n",
       "  </tbody>\n",
       "</table>\n",
       "</div>"
      ],
      "text/plain": [
       "                                     id  \\\n",
       "0  814fe3ca-4dd7-11f0-b77b-e78e4fb36ab9   \n",
       "1  841deb2e-4dd7-11f0-883e-57d287dba527   \n",
       "2  86d022c4-4dd7-11f0-a63f-20f318bea63c   \n",
       "\n",
       "                                             content  \\\n",
       "0  Question: What are your shipping options?\\nAns...   \n",
       "1  Question: Do you offer international shipping?...   \n",
       "2  Question: Do you offer gift wrapping?\\nAnswer:...   \n",
       "\n",
       "                                           embedding  distance  category  \\\n",
       "0  [-0.00944389, 0.013674567, 0.037937388, 0.0095...  0.318338  Shipping   \n",
       "1  [0.01588083, 0.02084359, 0.068945, 0.040534537...  0.468099  Shipping   \n",
       "2  [0.00729098, 0.012285413, -0.0017600359, -0.00...  0.540579  Services   \n",
       "\n",
       "                   created_at  \n",
       "0  2025-06-20T18:37:23.128929  \n",
       "1  2025-06-20T18:37:27.834603  \n",
       "2  2025-06-20T18:37:32.358010  "
      ]
     },
     "execution_count": 9,
     "metadata": {},
     "output_type": "execute_result"
    }
   ],
   "source": [
    "results"
   ]
  },
  {
   "cell_type": "code",
   "execution_count": 10,
   "metadata": {},
   "outputs": [],
   "source": [
    "response = Synthesizer.generate_response(question=relevant_question, context=results)"
   ]
  },
  {
   "cell_type": "code",
   "execution_count": 11,
   "metadata": {},
   "outputs": [
    {
     "data": {
      "text/plain": [
       "SynthesizedResponse(thought_process=['The user is asking about the shipping options available.', 'The retrieved context provides information on the shipping options offered by the company.', 'The context mentions both standard and express shipping options, including their respective delivery times.', \"There is enough information to answer the user's question based on the provided context.\"], answer='We offer two shipping options: standard shipping, which takes 3-5 business days, and express shipping, which takes 1-2 business days.', enough_context=True)"
      ]
     },
     "execution_count": 11,
     "metadata": {},
     "output_type": "execute_result"
    }
   ],
   "source": [
    "response"
   ]
  },
  {
   "cell_type": "code",
   "execution_count": 12,
   "metadata": {},
   "outputs": [
    {
     "name": "stdout",
     "output_type": "stream",
     "text": [
      "\n",
      "We offer two shipping options: standard shipping, which takes 3-5 business days, and express shipping, which takes 1-2 business days.\n",
      "\n",
      "Thought process:\n",
      "- The user is asking about the shipping options available.\n",
      "- The retrieved context provides information on the shipping options offered by the company.\n",
      "- The context mentions both standard and express shipping options, including their respective delivery times.\n",
      "- There is enough information to answer the user's question based on the provided context.\n",
      "\n",
      "Context: True\n"
     ]
    }
   ],
   "source": [
    "print(f\"\\n{response.answer}\")\n",
    "print(\"\\nThought process:\")\n",
    "for thought in response.thought_process:\n",
    "    print(f\"- {thought}\")\n",
    "print(f\"\\nContext: {response.enough_context}\")"
   ]
  },
  {
   "cell_type": "code",
   "execution_count": 13,
   "metadata": {},
   "outputs": [],
   "source": [
    "irrelevant_question = \"What is the weather in Tokyo?\"\n",
    "\n",
    "results = vec.search(irrelevant_question, limit=3)"
   ]
  },
  {
   "cell_type": "code",
   "execution_count": 14,
   "metadata": {},
   "outputs": [
    {
     "data": {
      "text/html": [
       "<div>\n",
       "<style scoped>\n",
       "    .dataframe tbody tr th:only-of-type {\n",
       "        vertical-align: middle;\n",
       "    }\n",
       "\n",
       "    .dataframe tbody tr th {\n",
       "        vertical-align: top;\n",
       "    }\n",
       "\n",
       "    .dataframe thead th {\n",
       "        text-align: right;\n",
       "    }\n",
       "</style>\n",
       "<table border=\"1\" class=\"dataframe\">\n",
       "  <thead>\n",
       "    <tr style=\"text-align: right;\">\n",
       "      <th></th>\n",
       "      <th>id</th>\n",
       "      <th>content</th>\n",
       "      <th>embedding</th>\n",
       "      <th>distance</th>\n",
       "      <th>category</th>\n",
       "      <th>created_at</th>\n",
       "    </tr>\n",
       "  </thead>\n",
       "  <tbody>\n",
       "    <tr>\n",
       "      <th>0</th>\n",
       "      <td>841deb2e-4dd7-11f0-883e-57d287dba527</td>\n",
       "      <td>Question: Do you offer international shipping?...</td>\n",
       "      <td>[0.01588083, 0.02084359, 0.068945, 0.040534537...</td>\n",
       "      <td>0.915522</td>\n",
       "      <td>Shipping</td>\n",
       "      <td>2025-06-20T18:37:27.834603</td>\n",
       "    </tr>\n",
       "    <tr>\n",
       "      <th>1</th>\n",
       "      <td>89660918-4dd7-11f0-a434-51a36850fb71</td>\n",
       "      <td>Question: What is your warranty policy?\\nAnswe...</td>\n",
       "      <td>[0.014443719, 0.014022687, 0.017999096, 0.0259...</td>\n",
       "      <td>0.921201</td>\n",
       "      <td>Product Information</td>\n",
       "      <td>2025-06-20T18:37:36.695836</td>\n",
       "    </tr>\n",
       "    <tr>\n",
       "      <th>2</th>\n",
       "      <td>83aae598-4dd7-11f0-b6b2-340f562a1aa7</td>\n",
       "      <td>Question: What is your return policy?\\nAnswer:...</td>\n",
       "      <td>[0.017055543, 0.052628532, 0.024427535, 0.0350...</td>\n",
       "      <td>0.923967</td>\n",
       "      <td>Returns</td>\n",
       "      <td>2025-06-20T18:37:27.080796</td>\n",
       "    </tr>\n",
       "  </tbody>\n",
       "</table>\n",
       "</div>"
      ],
      "text/plain": [
       "                                     id  \\\n",
       "0  841deb2e-4dd7-11f0-883e-57d287dba527   \n",
       "1  89660918-4dd7-11f0-a434-51a36850fb71   \n",
       "2  83aae598-4dd7-11f0-b6b2-340f562a1aa7   \n",
       "\n",
       "                                             content  \\\n",
       "0  Question: Do you offer international shipping?...   \n",
       "1  Question: What is your warranty policy?\\nAnswe...   \n",
       "2  Question: What is your return policy?\\nAnswer:...   \n",
       "\n",
       "                                           embedding  distance  \\\n",
       "0  [0.01588083, 0.02084359, 0.068945, 0.040534537...  0.915522   \n",
       "1  [0.014443719, 0.014022687, 0.017999096, 0.0259...  0.921201   \n",
       "2  [0.017055543, 0.052628532, 0.024427535, 0.0350...  0.923967   \n",
       "\n",
       "              category                  created_at  \n",
       "0             Shipping  2025-06-20T18:37:27.834603  \n",
       "1  Product Information  2025-06-20T18:37:36.695836  \n",
       "2              Returns  2025-06-20T18:37:27.080796  "
      ]
     },
     "execution_count": 14,
     "metadata": {},
     "output_type": "execute_result"
    }
   ],
   "source": [
    "results"
   ]
  },
  {
   "cell_type": "code",
   "execution_count": 15,
   "metadata": {},
   "outputs": [
    {
     "name": "stdout",
     "output_type": "stream",
     "text": [
      "\n",
      "I'm sorry, but I cannot provide the current weather information for Tokyo based on the available context. Please check a reliable weather service or app for the most up-to-date information.\n",
      "\n",
      "Thought process:\n",
      "- The user's question is about the current weather in Tokyo, which is unrelated to the e-commerce context provided.\n",
      "- The retrieved context does not contain any information about weather or related services.\n",
      "- I need to inform the user that I cannot provide the current weather information based on the available context.\n",
      "\n",
      "Context: False\n"
     ]
    }
   ],
   "source": [
    "response = Synthesizer.generate_response(question=irrelevant_question, context=results)\n",
    "\n",
    "print(f\"\\n{response.answer}\")\n",
    "print(\"\\nThought process:\")\n",
    "for thought in response.thought_process:\n",
    "    print(f\"- {thought}\")\n",
    "print(f\"\\nContext: {response.enough_context}\")"
   ]
  },
  {
   "cell_type": "code",
   "execution_count": 17,
   "metadata": {},
   "outputs": [
    {
     "name": "stdout",
     "output_type": "stream",
     "text": [
      "Custom question: I bought a product from your website but it appears that I am getting promotional emails that I no longer want to receive. How can I stop receiving these emails?\n",
      "\n",
      "To stop receiving promotional emails, you can click the \"Unsubscribe\" link located at the bottom of any of our email newsletters. This will remove you from our mailing list.\n",
      "\n",
      "Thought process:\n",
      "- The user wants to stop receiving promotional emails.\n",
      "- The context provides information on how to unsubscribe from email newsletters.\n",
      "- The relevant information is that the user can click the 'Unsubscribe' link at the bottom of any email newsletter to stop receiving them.\n",
      "\n",
      "Context: True\n"
     ]
    }
   ],
   "source": [
    "# Try out your own questions here!\n",
    "custom_question = input('Enter your question: ')\n",
    "print(f'Custom question: {custom_question}')\n",
    "\n",
    "results = vec.search(custom_question, limit=3)\n",
    "response = Synthesizer.generate_response(question=custom_question, context=results)\n",
    "\n",
    "print(f\"\\n{response.answer}\")\n",
    "print(\"\\nThought process:\")\n",
    "for thought in response.thought_process:\n",
    "    print(f\"- {thought}\")\n",
    "print(f\"\\nContext: {response.enough_context}\")"
   ]
  },
  {
   "cell_type": "code",
   "execution_count": 18,
   "metadata": {},
   "outputs": [],
   "source": [
    "metadata_filter = {\"category\": \"Shipping\"}\n",
    "\n",
    "results = vec.search(relevant_question, limit=3, metadata_filter=metadata_filter)"
   ]
  },
  {
   "cell_type": "code",
   "execution_count": 19,
   "metadata": {},
   "outputs": [
    {
     "data": {
      "text/html": [
       "<div>\n",
       "<style scoped>\n",
       "    .dataframe tbody tr th:only-of-type {\n",
       "        vertical-align: middle;\n",
       "    }\n",
       "\n",
       "    .dataframe tbody tr th {\n",
       "        vertical-align: top;\n",
       "    }\n",
       "\n",
       "    .dataframe thead th {\n",
       "        text-align: right;\n",
       "    }\n",
       "</style>\n",
       "<table border=\"1\" class=\"dataframe\">\n",
       "  <thead>\n",
       "    <tr style=\"text-align: right;\">\n",
       "      <th></th>\n",
       "      <th>id</th>\n",
       "      <th>content</th>\n",
       "      <th>embedding</th>\n",
       "      <th>distance</th>\n",
       "      <th>category</th>\n",
       "      <th>created_at</th>\n",
       "    </tr>\n",
       "  </thead>\n",
       "  <tbody>\n",
       "    <tr>\n",
       "      <th>0</th>\n",
       "      <td>814fe3ca-4dd7-11f0-b77b-e78e4fb36ab9</td>\n",
       "      <td>Question: What are your shipping options?\\nAns...</td>\n",
       "      <td>[-0.00944389, 0.013674567, 0.037937388, 0.0095...</td>\n",
       "      <td>0.318338</td>\n",
       "      <td>Shipping</td>\n",
       "      <td>2025-06-20T18:37:23.128929</td>\n",
       "    </tr>\n",
       "    <tr>\n",
       "      <th>1</th>\n",
       "      <td>841deb2e-4dd7-11f0-883e-57d287dba527</td>\n",
       "      <td>Question: Do you offer international shipping?...</td>\n",
       "      <td>[0.01588083, 0.02084359, 0.068945, 0.040534537...</td>\n",
       "      <td>0.468099</td>\n",
       "      <td>Shipping</td>\n",
       "      <td>2025-06-20T18:37:27.834603</td>\n",
       "    </tr>\n",
       "  </tbody>\n",
       "</table>\n",
       "</div>"
      ],
      "text/plain": [
       "                                     id  \\\n",
       "0  814fe3ca-4dd7-11f0-b77b-e78e4fb36ab9   \n",
       "1  841deb2e-4dd7-11f0-883e-57d287dba527   \n",
       "\n",
       "                                             content  \\\n",
       "0  Question: What are your shipping options?\\nAns...   \n",
       "1  Question: Do you offer international shipping?...   \n",
       "\n",
       "                                           embedding  distance  category  \\\n",
       "0  [-0.00944389, 0.013674567, 0.037937388, 0.0095...  0.318338  Shipping   \n",
       "1  [0.01588083, 0.02084359, 0.068945, 0.040534537...  0.468099  Shipping   \n",
       "\n",
       "                   created_at  \n",
       "0  2025-06-20T18:37:23.128929  \n",
       "1  2025-06-20T18:37:27.834603  "
      ]
     },
     "execution_count": 19,
     "metadata": {},
     "output_type": "execute_result"
    }
   ],
   "source": [
    "results"
   ]
  },
  {
   "cell_type": "code",
   "execution_count": 20,
   "metadata": {},
   "outputs": [
    {
     "name": "stdout",
     "output_type": "stream",
     "text": [
      "\n",
      "We offer two main shipping options: standard shipping, which takes 3-5 business days, and express shipping, which takes 1-2 business days. Additionally, we provide international shipping to most countries worldwide, with costs and delivery times varying by location.\n",
      "\n",
      "Thought process:\n",
      "- The context provides information about the shipping options available, which include standard and express shipping.\n",
      "- It also mentions international shipping, indicating that the company ships to most countries worldwide.\n",
      "- The context does not specify any additional shipping options or details about costs, but it provides enough information to answer the user's question about the basic shipping options.\n",
      "\n",
      "Context: True\n"
     ]
    }
   ],
   "source": [
    "response = Synthesizer.generate_response(question=relevant_question, context=results)\n",
    "\n",
    "print(f\"\\n{response.answer}\")\n",
    "print(\"\\nThought process:\")\n",
    "for thought in response.thought_process:\n",
    "    print(f\"- {thought}\")\n",
    "print(f\"\\nContext: {response.enough_context}\")"
   ]
  },
  {
   "cell_type": "code",
   "execution_count": 21,
   "metadata": {},
   "outputs": [],
   "source": [
    "predicates = client.Predicates(\"category\", \"==\", \"Shipping\")\n",
    "results = vec.search(relevant_question, limit=3, predicates=predicates)\n"
   ]
  },
  {
   "cell_type": "code",
   "execution_count": 22,
   "metadata": {},
   "outputs": [
    {
     "data": {
      "text/html": [
       "<div>\n",
       "<style scoped>\n",
       "    .dataframe tbody tr th:only-of-type {\n",
       "        vertical-align: middle;\n",
       "    }\n",
       "\n",
       "    .dataframe tbody tr th {\n",
       "        vertical-align: top;\n",
       "    }\n",
       "\n",
       "    .dataframe thead th {\n",
       "        text-align: right;\n",
       "    }\n",
       "</style>\n",
       "<table border=\"1\" class=\"dataframe\">\n",
       "  <thead>\n",
       "    <tr style=\"text-align: right;\">\n",
       "      <th></th>\n",
       "      <th>id</th>\n",
       "      <th>content</th>\n",
       "      <th>embedding</th>\n",
       "      <th>distance</th>\n",
       "      <th>category</th>\n",
       "      <th>created_at</th>\n",
       "    </tr>\n",
       "  </thead>\n",
       "  <tbody>\n",
       "    <tr>\n",
       "      <th>0</th>\n",
       "      <td>814fe3ca-4dd7-11f0-b77b-e78e4fb36ab9</td>\n",
       "      <td>Question: What are your shipping options?\\nAns...</td>\n",
       "      <td>[-0.00944389, 0.013674567, 0.037937388, 0.0095...</td>\n",
       "      <td>0.318338</td>\n",
       "      <td>Shipping</td>\n",
       "      <td>2025-06-20T18:37:23.128929</td>\n",
       "    </tr>\n",
       "    <tr>\n",
       "      <th>1</th>\n",
       "      <td>841deb2e-4dd7-11f0-883e-57d287dba527</td>\n",
       "      <td>Question: Do you offer international shipping?...</td>\n",
       "      <td>[0.01588083, 0.02084359, 0.068945, 0.040534537...</td>\n",
       "      <td>0.468099</td>\n",
       "      <td>Shipping</td>\n",
       "      <td>2025-06-20T18:37:27.834603</td>\n",
       "    </tr>\n",
       "  </tbody>\n",
       "</table>\n",
       "</div>"
      ],
      "text/plain": [
       "                                     id  \\\n",
       "0  814fe3ca-4dd7-11f0-b77b-e78e4fb36ab9   \n",
       "1  841deb2e-4dd7-11f0-883e-57d287dba527   \n",
       "\n",
       "                                             content  \\\n",
       "0  Question: What are your shipping options?\\nAns...   \n",
       "1  Question: Do you offer international shipping?...   \n",
       "\n",
       "                                           embedding  distance  category  \\\n",
       "0  [-0.00944389, 0.013674567, 0.037937388, 0.0095...  0.318338  Shipping   \n",
       "1  [0.01588083, 0.02084359, 0.068945, 0.040534537...  0.468099  Shipping   \n",
       "\n",
       "                   created_at  \n",
       "0  2025-06-20T18:37:23.128929  \n",
       "1  2025-06-20T18:37:27.834603  "
      ]
     },
     "execution_count": 22,
     "metadata": {},
     "output_type": "execute_result"
    }
   ],
   "source": [
    "results"
   ]
  },
  {
   "cell_type": "code",
   "execution_count": 23,
   "metadata": {},
   "outputs": [],
   "source": [
    "predicates = client.Predicates(\"category\", \"==\", \"Shipping\") | client.Predicates(\n",
    "    \"category\", \"==\", \"Services\"\n",
    ")\n",
    "results = vec.search(relevant_question, limit=3, predicates=predicates)\n"
   ]
  },
  {
   "cell_type": "code",
   "execution_count": 24,
   "metadata": {},
   "outputs": [
    {
     "data": {
      "text/html": [
       "<div>\n",
       "<style scoped>\n",
       "    .dataframe tbody tr th:only-of-type {\n",
       "        vertical-align: middle;\n",
       "    }\n",
       "\n",
       "    .dataframe tbody tr th {\n",
       "        vertical-align: top;\n",
       "    }\n",
       "\n",
       "    .dataframe thead th {\n",
       "        text-align: right;\n",
       "    }\n",
       "</style>\n",
       "<table border=\"1\" class=\"dataframe\">\n",
       "  <thead>\n",
       "    <tr style=\"text-align: right;\">\n",
       "      <th></th>\n",
       "      <th>id</th>\n",
       "      <th>content</th>\n",
       "      <th>embedding</th>\n",
       "      <th>distance</th>\n",
       "      <th>category</th>\n",
       "      <th>created_at</th>\n",
       "    </tr>\n",
       "  </thead>\n",
       "  <tbody>\n",
       "    <tr>\n",
       "      <th>0</th>\n",
       "      <td>814fe3ca-4dd7-11f0-b77b-e78e4fb36ab9</td>\n",
       "      <td>Question: What are your shipping options?\\nAns...</td>\n",
       "      <td>[-0.00944389, 0.013674567, 0.037937388, 0.0095...</td>\n",
       "      <td>0.318338</td>\n",
       "      <td>Shipping</td>\n",
       "      <td>2025-06-20T18:37:23.128929</td>\n",
       "    </tr>\n",
       "    <tr>\n",
       "      <th>1</th>\n",
       "      <td>841deb2e-4dd7-11f0-883e-57d287dba527</td>\n",
       "      <td>Question: Do you offer international shipping?...</td>\n",
       "      <td>[0.01588083, 0.02084359, 0.068945, 0.040534537...</td>\n",
       "      <td>0.468099</td>\n",
       "      <td>Shipping</td>\n",
       "      <td>2025-06-20T18:37:27.834603</td>\n",
       "    </tr>\n",
       "    <tr>\n",
       "      <th>2</th>\n",
       "      <td>86d022c4-4dd7-11f0-a63f-20f318bea63c</td>\n",
       "      <td>Question: Do you offer gift wrapping?\\nAnswer:...</td>\n",
       "      <td>[0.00729098, 0.012285413, -0.0017600359, -0.00...</td>\n",
       "      <td>0.540579</td>\n",
       "      <td>Services</td>\n",
       "      <td>2025-06-20T18:37:32.358010</td>\n",
       "    </tr>\n",
       "  </tbody>\n",
       "</table>\n",
       "</div>"
      ],
      "text/plain": [
       "                                     id  \\\n",
       "0  814fe3ca-4dd7-11f0-b77b-e78e4fb36ab9   \n",
       "1  841deb2e-4dd7-11f0-883e-57d287dba527   \n",
       "2  86d022c4-4dd7-11f0-a63f-20f318bea63c   \n",
       "\n",
       "                                             content  \\\n",
       "0  Question: What are your shipping options?\\nAns...   \n",
       "1  Question: Do you offer international shipping?...   \n",
       "2  Question: Do you offer gift wrapping?\\nAnswer:...   \n",
       "\n",
       "                                           embedding  distance  category  \\\n",
       "0  [-0.00944389, 0.013674567, 0.037937388, 0.0095...  0.318338  Shipping   \n",
       "1  [0.01588083, 0.02084359, 0.068945, 0.040534537...  0.468099  Shipping   \n",
       "2  [0.00729098, 0.012285413, -0.0017600359, -0.00...  0.540579  Services   \n",
       "\n",
       "                   created_at  \n",
       "0  2025-06-20T18:37:23.128929  \n",
       "1  2025-06-20T18:37:27.834603  \n",
       "2  2025-06-20T18:37:32.358010  "
      ]
     },
     "execution_count": 24,
     "metadata": {},
     "output_type": "execute_result"
    }
   ],
   "source": [
    "results"
   ]
  },
  {
   "cell_type": "code",
   "execution_count": 25,
   "metadata": {},
   "outputs": [],
   "source": [
    "predicates = client.Predicates(\"category\", \"==\", \"Shipping\") & client.Predicates(\n",
    "    \"created_at\", \">\", \"2024-09-01\"\n",
    ")\n",
    "results = vec.search(relevant_question, limit=3, predicates=predicates)"
   ]
  },
  {
   "cell_type": "code",
   "execution_count": 26,
   "metadata": {},
   "outputs": [
    {
     "data": {
      "text/html": [
       "<div>\n",
       "<style scoped>\n",
       "    .dataframe tbody tr th:only-of-type {\n",
       "        vertical-align: middle;\n",
       "    }\n",
       "\n",
       "    .dataframe tbody tr th {\n",
       "        vertical-align: top;\n",
       "    }\n",
       "\n",
       "    .dataframe thead th {\n",
       "        text-align: right;\n",
       "    }\n",
       "</style>\n",
       "<table border=\"1\" class=\"dataframe\">\n",
       "  <thead>\n",
       "    <tr style=\"text-align: right;\">\n",
       "      <th></th>\n",
       "      <th>id</th>\n",
       "      <th>content</th>\n",
       "      <th>embedding</th>\n",
       "      <th>distance</th>\n",
       "      <th>category</th>\n",
       "      <th>created_at</th>\n",
       "    </tr>\n",
       "  </thead>\n",
       "  <tbody>\n",
       "    <tr>\n",
       "      <th>0</th>\n",
       "      <td>814fe3ca-4dd7-11f0-b77b-e78e4fb36ab9</td>\n",
       "      <td>Question: What are your shipping options?\\nAns...</td>\n",
       "      <td>[-0.00944389, 0.013674567, 0.037937388, 0.0095...</td>\n",
       "      <td>0.318344</td>\n",
       "      <td>Shipping</td>\n",
       "      <td>2025-06-20T18:37:23.128929</td>\n",
       "    </tr>\n",
       "    <tr>\n",
       "      <th>1</th>\n",
       "      <td>841deb2e-4dd7-11f0-883e-57d287dba527</td>\n",
       "      <td>Question: Do you offer international shipping?...</td>\n",
       "      <td>[0.01588083, 0.02084359, 0.068945, 0.040534537...</td>\n",
       "      <td>0.468076</td>\n",
       "      <td>Shipping</td>\n",
       "      <td>2025-06-20T18:37:27.834603</td>\n",
       "    </tr>\n",
       "  </tbody>\n",
       "</table>\n",
       "</div>"
      ],
      "text/plain": [
       "                                     id  \\\n",
       "0  814fe3ca-4dd7-11f0-b77b-e78e4fb36ab9   \n",
       "1  841deb2e-4dd7-11f0-883e-57d287dba527   \n",
       "\n",
       "                                             content  \\\n",
       "0  Question: What are your shipping options?\\nAns...   \n",
       "1  Question: Do you offer international shipping?...   \n",
       "\n",
       "                                           embedding  distance  category  \\\n",
       "0  [-0.00944389, 0.013674567, 0.037937388, 0.0095...  0.318344  Shipping   \n",
       "1  [0.01588083, 0.02084359, 0.068945, 0.040534537...  0.468076  Shipping   \n",
       "\n",
       "                   created_at  \n",
       "0  2025-06-20T18:37:23.128929  \n",
       "1  2025-06-20T18:37:27.834603  "
      ]
     },
     "execution_count": 26,
     "metadata": {},
     "output_type": "execute_result"
    }
   ],
   "source": [
    "results"
   ]
  },
  {
   "cell_type": "code",
   "execution_count": 27,
   "metadata": {},
   "outputs": [],
   "source": [
    "time_range = (datetime(2024, 9, 1), datetime(2024, 9, 30))\n",
    "results = vec.search(relevant_question, limit=3, time_range=time_range)"
   ]
  },
  {
   "cell_type": "code",
   "execution_count": 28,
   "metadata": {},
   "outputs": [
    {
     "data": {
      "text/html": [
       "<div>\n",
       "<style scoped>\n",
       "    .dataframe tbody tr th:only-of-type {\n",
       "        vertical-align: middle;\n",
       "    }\n",
       "\n",
       "    .dataframe tbody tr th {\n",
       "        vertical-align: top;\n",
       "    }\n",
       "\n",
       "    .dataframe thead th {\n",
       "        text-align: right;\n",
       "    }\n",
       "</style>\n",
       "<table border=\"1\" class=\"dataframe\">\n",
       "  <thead>\n",
       "    <tr style=\"text-align: right;\">\n",
       "      <th></th>\n",
       "      <th>id</th>\n",
       "      <th>content</th>\n",
       "      <th>embedding</th>\n",
       "      <th>distance</th>\n",
       "      <th>metadata</th>\n",
       "    </tr>\n",
       "  </thead>\n",
       "  <tbody>\n",
       "  </tbody>\n",
       "</table>\n",
       "</div>"
      ],
      "text/plain": [
       "Empty DataFrame\n",
       "Columns: [id, content, embedding, distance, metadata]\n",
       "Index: []"
      ]
     },
     "execution_count": 28,
     "metadata": {},
     "output_type": "execute_result"
    }
   ],
   "source": [
    "results"
   ]
  },
  {
   "cell_type": "code",
   "execution_count": 29,
   "metadata": {},
   "outputs": [],
   "source": [
    "time_range = (datetime(2024, 8, 1), datetime(2024, 8, 30))\n",
    "results = vec.search(relevant_question, limit=3, time_range=time_range)"
   ]
  },
  {
   "cell_type": "code",
   "execution_count": 30,
   "metadata": {},
   "outputs": [
    {
     "data": {
      "text/html": [
       "<div>\n",
       "<style scoped>\n",
       "    .dataframe tbody tr th:only-of-type {\n",
       "        vertical-align: middle;\n",
       "    }\n",
       "\n",
       "    .dataframe tbody tr th {\n",
       "        vertical-align: top;\n",
       "    }\n",
       "\n",
       "    .dataframe thead th {\n",
       "        text-align: right;\n",
       "    }\n",
       "</style>\n",
       "<table border=\"1\" class=\"dataframe\">\n",
       "  <thead>\n",
       "    <tr style=\"text-align: right;\">\n",
       "      <th></th>\n",
       "      <th>id</th>\n",
       "      <th>content</th>\n",
       "      <th>embedding</th>\n",
       "      <th>distance</th>\n",
       "      <th>metadata</th>\n",
       "    </tr>\n",
       "  </thead>\n",
       "  <tbody>\n",
       "  </tbody>\n",
       "</table>\n",
       "</div>"
      ],
      "text/plain": [
       "Empty DataFrame\n",
       "Columns: [id, content, embedding, distance, metadata]\n",
       "Index: []"
      ]
     },
     "execution_count": 30,
     "metadata": {},
     "output_type": "execute_result"
    }
   ],
   "source": [
    "results"
   ]
  },
  {
   "cell_type": "code",
   "execution_count": 31,
   "metadata": {},
   "outputs": [],
   "source": [
    "# June — Returning results\n",
    "time_range = (datetime(2025, 6, 1), datetime(2025, 6, 30))\n",
    "results = vec.search(relevant_question, limit=3, time_range=time_range)"
   ]
  },
  {
   "cell_type": "code",
   "execution_count": 32,
   "metadata": {},
   "outputs": [
    {
     "data": {
      "text/html": [
       "<div>\n",
       "<style scoped>\n",
       "    .dataframe tbody tr th:only-of-type {\n",
       "        vertical-align: middle;\n",
       "    }\n",
       "\n",
       "    .dataframe tbody tr th {\n",
       "        vertical-align: top;\n",
       "    }\n",
       "\n",
       "    .dataframe thead th {\n",
       "        text-align: right;\n",
       "    }\n",
       "</style>\n",
       "<table border=\"1\" class=\"dataframe\">\n",
       "  <thead>\n",
       "    <tr style=\"text-align: right;\">\n",
       "      <th></th>\n",
       "      <th>id</th>\n",
       "      <th>content</th>\n",
       "      <th>embedding</th>\n",
       "      <th>distance</th>\n",
       "      <th>category</th>\n",
       "      <th>created_at</th>\n",
       "    </tr>\n",
       "  </thead>\n",
       "  <tbody>\n",
       "    <tr>\n",
       "      <th>0</th>\n",
       "      <td>814fe3ca-4dd7-11f0-b77b-e78e4fb36ab9</td>\n",
       "      <td>Question: What are your shipping options?\\nAns...</td>\n",
       "      <td>[-0.00944389, 0.013674567, 0.037937388, 0.0095...</td>\n",
       "      <td>0.318317</td>\n",
       "      <td>Shipping</td>\n",
       "      <td>2025-06-20T18:37:23.128929</td>\n",
       "    </tr>\n",
       "    <tr>\n",
       "      <th>1</th>\n",
       "      <td>841deb2e-4dd7-11f0-883e-57d287dba527</td>\n",
       "      <td>Question: Do you offer international shipping?...</td>\n",
       "      <td>[0.01588083, 0.02084359, 0.068945, 0.040534537...</td>\n",
       "      <td>0.468092</td>\n",
       "      <td>Shipping</td>\n",
       "      <td>2025-06-20T18:37:27.834603</td>\n",
       "    </tr>\n",
       "    <tr>\n",
       "      <th>2</th>\n",
       "      <td>86d022c4-4dd7-11f0-a63f-20f318bea63c</td>\n",
       "      <td>Question: Do you offer gift wrapping?\\nAnswer:...</td>\n",
       "      <td>[0.00729098, 0.012285413, -0.0017600359, -0.00...</td>\n",
       "      <td>0.540548</td>\n",
       "      <td>Services</td>\n",
       "      <td>2025-06-20T18:37:32.358010</td>\n",
       "    </tr>\n",
       "  </tbody>\n",
       "</table>\n",
       "</div>"
      ],
      "text/plain": [
       "                                     id  \\\n",
       "0  814fe3ca-4dd7-11f0-b77b-e78e4fb36ab9   \n",
       "1  841deb2e-4dd7-11f0-883e-57d287dba527   \n",
       "2  86d022c4-4dd7-11f0-a63f-20f318bea63c   \n",
       "\n",
       "                                             content  \\\n",
       "0  Question: What are your shipping options?\\nAns...   \n",
       "1  Question: Do you offer international shipping?...   \n",
       "2  Question: Do you offer gift wrapping?\\nAnswer:...   \n",
       "\n",
       "                                           embedding  distance  category  \\\n",
       "0  [-0.00944389, 0.013674567, 0.037937388, 0.0095...  0.318317  Shipping   \n",
       "1  [0.01588083, 0.02084359, 0.068945, 0.040534537...  0.468092  Shipping   \n",
       "2  [0.00729098, 0.012285413, -0.0017600359, -0.00...  0.540548  Services   \n",
       "\n",
       "                   created_at  \n",
       "0  2025-06-20T18:37:23.128929  \n",
       "1  2025-06-20T18:37:27.834603  \n",
       "2  2025-06-20T18:37:32.358010  "
      ]
     },
     "execution_count": 32,
     "metadata": {},
     "output_type": "execute_result"
    }
   ],
   "source": [
    "results"
   ]
  },
  {
   "cell_type": "code",
   "execution_count": 33,
   "metadata": {},
   "outputs": [],
   "source": [
    "# May — Not returning any results\n",
    "time_range = (datetime(2025, 5, 1), datetime(2025, 5, 31))\n",
    "results = vec.search(relevant_question, limit=3, time_range=time_range)"
   ]
  },
  {
   "cell_type": "code",
   "execution_count": 34,
   "metadata": {},
   "outputs": [
    {
     "data": {
      "text/html": [
       "<div>\n",
       "<style scoped>\n",
       "    .dataframe tbody tr th:only-of-type {\n",
       "        vertical-align: middle;\n",
       "    }\n",
       "\n",
       "    .dataframe tbody tr th {\n",
       "        vertical-align: top;\n",
       "    }\n",
       "\n",
       "    .dataframe thead th {\n",
       "        text-align: right;\n",
       "    }\n",
       "</style>\n",
       "<table border=\"1\" class=\"dataframe\">\n",
       "  <thead>\n",
       "    <tr style=\"text-align: right;\">\n",
       "      <th></th>\n",
       "      <th>id</th>\n",
       "      <th>content</th>\n",
       "      <th>embedding</th>\n",
       "      <th>distance</th>\n",
       "      <th>metadata</th>\n",
       "    </tr>\n",
       "  </thead>\n",
       "  <tbody>\n",
       "  </tbody>\n",
       "</table>\n",
       "</div>"
      ],
      "text/plain": [
       "Empty DataFrame\n",
       "Columns: [id, content, embedding, distance, metadata]\n",
       "Index: []"
      ]
     },
     "execution_count": 34,
     "metadata": {},
     "output_type": "execute_result"
    }
   ],
   "source": [
    "results"
   ]
  }
 ],
 "metadata": {
  "kernelspec": {
   "display_name": "venv",
   "language": "python",
   "name": "python3"
  },
  "language_info": {
   "codemirror_mode": {
    "name": "ipython",
    "version": 3
   },
   "file_extension": ".py",
   "mimetype": "text/x-python",
   "name": "python",
   "nbconvert_exporter": "python",
   "pygments_lexer": "ipython3",
   "version": "3.12.7"
  }
 },
 "nbformat": 4,
 "nbformat_minor": 2
}
